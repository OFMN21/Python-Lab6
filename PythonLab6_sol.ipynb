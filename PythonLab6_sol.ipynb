{
 "cells": [
  {
   "cell_type": "code",
   "execution_count": 33,
   "metadata": {},
   "outputs": [],
   "source": [
    "## pre-made dict\n",
    "PhoneBook={\n",
    "    \"1111111111\": \"Amal\",\n",
    "    \"2222222222\":\t\"Mohammed\",\n",
    "    \"3333333333\":\t\"Khadijah\",\n",
    "    \"4444444444\":\t\"Abdullah\",\n",
    "    \"5555555555\":\t\"Rawan\",\n",
    "    \"6666666666\":\t\"Faisal\",\n",
    "    \"7777777777\":\t\"Layla\"\n",
    "}"
   ]
  },
  {
   "cell_type": "code",
   "execution_count": 41,
   "metadata": {},
   "outputs": [
    {
     "name": "stdout",
     "output_type": "stream",
     "text": [
      "This is invalid number\n",
      "This is invalid number\n",
      "This is invalid number\n",
      "Name: Layla\n"
     ]
    }
   ],
   "source": [
    "while True:\n",
    "    PhoneNum = input(\"Enter the phone number: \")\n",
    "    if not (PhoneNum.isdigit() and len(PhoneNum) == 10): # isdigit() a method retruns true when a string is made of number and false if there any letter or symbol\n",
    "        print(\"This is invalid number\")\n",
    "        continue\n",
    "    else:\n",
    "        # check if the number exists in the PhoneBook dict.\n",
    "        if PhoneNum in PhoneBook:\n",
    "            print(\"Name: \" + PhoneBook[PhoneNum])    \n",
    "        else:\n",
    "            print(\"Sorry, the number is not found.\")\n",
    "        break\n"
   ]
  }
 ],
 "metadata": {
  "kernelspec": {
   "display_name": "Python 3",
   "language": "python",
   "name": "python3"
  },
  "language_info": {
   "codemirror_mode": {
    "name": "ipython",
    "version": 3
   },
   "file_extension": ".py",
   "mimetype": "text/x-python",
   "name": "python",
   "nbconvert_exporter": "python",
   "pygments_lexer": "ipython3",
   "version": "3.11.1"
  },
  "orig_nbformat": 4
 },
 "nbformat": 4,
 "nbformat_minor": 2
}
